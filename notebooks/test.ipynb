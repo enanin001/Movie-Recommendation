{
 "cells": [
  {
   "cell_type": "code",
   "execution_count": 1,
   "metadata": {},
   "outputs": [
    {
     "name": "stderr",
     "output_type": "stream",
     "text": [
      "2025-02-15 14:16:07.909131: I tensorflow/core/platform/cpu_feature_guard.cc:182] This TensorFlow binary is optimized to use available CPU instructions in performance-critical operations.\n",
      "To enable the following instructions: AVX2 AVX512F AVX512_VNNI FMA, in other operations, rebuild TensorFlow with the appropriate compiler flags.\n"
     ]
    }
   ],
   "source": [
    "\n",
    "import pandas as pd\n",
    "import numpy as np\n",
    "from sklearn.metrics.pairwise import cosine_similarity\n",
    "from sklearn.metrics import mean_squared_error\n",
    "\n",
    "from surprise.model_selection import train_test_split as surprise_train_test_split\n",
    "from sklearn.preprocessing import MultiLabelBinarizer\n",
    "from surprise import SVD, NMF, Dataset, Reader\n",
    "from surprise.model_selection import cross_validate\n",
    "from surprise.model_selection import train_test_split\n",
    "from surprise import accuracy\n",
    "\n",
    "import matplotlib.pyplot as plt\n",
    "import seaborn as sns\n",
    "import tensorflow as tf\n",
    "from tensorflow.keras.models import Model\n",
    "from tensorflow.keras.layers import Input, Embedding, Dot, Flatten, Dense, Concatenate\n"
   ]
  },
  {
   "cell_type": "code",
   "execution_count": 2,
   "metadata": {},
   "outputs": [],
   "source": [
    "from surprise import accuracy\n",
    "from sklearn.metrics import precision_score, recall_score\n",
    "import numpy as np"
   ]
  },
  {
   "cell_type": "code",
   "execution_count": 3,
   "metadata": {},
   "outputs": [],
   "source": [
    "movies = pd.read_csv('/Users/misscc/Desktop/Spring_2025/Movie_Recommdation/data/movies.csv')\n",
    "ratings = pd.read_csv('/Users/misscc/Desktop/Spring_2025/Movie_Recommdation/data/ratings.csv')\n",
    "tags = pd.read_csv('/Users/misscc/Desktop/Spring_2025/Movie_Recommdation/data/tags.csv')"
   ]
  },
  {
   "cell_type": "code",
   "execution_count": 4,
   "metadata": {},
   "outputs": [],
   "source": [
    "# Data Preprocessing\n",
    "movies['genres'] = movies['genres'].fillna('Unknown').str.split('|')\n",
    "ratings = ratings.dropna()\n",
    "tags = tags.dropna()"
   ]
  },
  {
   "cell_type": "code",
   "execution_count": 5,
   "metadata": {},
   "outputs": [],
   "source": [
    "# One-hot encode genres\n",
    "mlb = MultiLabelBinarizer()\n",
    "genres_encoded = pd.DataFrame(mlb.fit_transform(movies['genres']), columns=mlb.classes_)\n",
    "movies = pd.concat([movies, genres_encoded], axis=1)"
   ]
  },
  {
   "cell_type": "code",
   "execution_count": null,
   "metadata": {},
   "outputs": [
    {
     "name": "stdout",
     "output_type": "stream",
     "text": [
      "(998, 500)\n"
     ]
    }
   ],
   "source": [
    "sample_users = ratings['userId'].unique()[:1000]  \n",
    "sample_movies = ratings['movieId'].unique()[:500]  \n",
    "\n",
    "filtered_ratings = ratings[ratings['userId'].isin(sample_users) & ratings['movieId'].isin(sample_movies)]\n",
    "user_movie_matrix = filtered_ratings.pivot_table(index='userId', columns='movieId', values='rating', fill_value=0)\n",
    "\n",
    "print(user_movie_matrix.shape)\n"
   ]
  },
  {
   "cell_type": "code",
   "execution_count": 7,
   "metadata": {},
   "outputs": [],
   "source": [
    "# User feature engineering\n",
    "user_avg_rating = ratings.groupby('userId')['rating'].mean().reset_index(name='avg_rating')\n",
    "user_activity = ratings.groupby('userId').size().reset_index(name='rating_count')\n",
    "user_features = pd.merge(user_avg_rating, user_activity, on='userId')"
   ]
  },
  {
   "cell_type": "code",
   "execution_count": 8,
   "metadata": {},
   "outputs": [],
   "source": [
    "from sklearn.feature_extraction.text import TfidfVectorizer\n",
    "\n",
    "tags['tag'] = tags['tag'].fillna('')\n",
    "vectorizer = TfidfVectorizer(max_features=100)\n",
    "tag_matrix = vectorizer.fit_transform(tags['tag'])"
   ]
  },
  {
   "cell_type": "code",
   "execution_count": 9,
   "metadata": {},
   "outputs": [],
   "source": [
    "ratings['timestamp'] = pd.to_datetime(ratings['timestamp'], unit='s')\n",
    "ratings['year'] = ratings['timestamp'].dt.year\n",
    "ratings['month'] = ratings['timestamp'].dt.month\n",
    "ratings['day_of_week'] = ratings['timestamp'].dt.dayofweek\n"
   ]
  },
  {
   "cell_type": "code",
   "execution_count": 10,
   "metadata": {},
   "outputs": [],
   "source": [
    "# Tag feature engineering\n",
    "top_tags = tags['tag'].value_counts().head(50).index.tolist()\n",
    "tag_features = tags.groupby('movieId')['tag'].apply(list).reset_index()\n",
    "tag_features['tag_vector'] = tag_features['tag'].apply(lambda x: [1 if tag in x else 0 for tag in top_tags])\n",
    "tag_df = pd.DataFrame(tag_features['tag_vector'].tolist(), columns=top_tags)\n",
    "tag_features = pd.concat([tag_features[['movieId']], tag_df], axis=1)\n",
    "movies = pd.merge(movies, tag_features, on='movieId', how='left')"
   ]
  },
  {
   "cell_type": "code",
   "execution_count": 11,
   "metadata": {},
   "outputs": [],
   "source": [
    "# User-User Collaborative Filtering\n",
    "user_sim_matrix = cosine_similarity(user_movie_matrix)\n",
    "def recommend_user_based(user_id, num_recommendations=5):\n",
    "    similar_users = np.argsort(user_sim_matrix[user_id])[-6:-1]\n",
    "    movie_scores = user_movie_matrix.iloc[similar_users].mean(axis=0)\n",
    "    watched = user_movie_matrix.loc[user_id] > 0\n",
    "    recommendations = movie_scores[~watched].sort_values(ascending=False).head(num_recommendations)\n",
    "    return recommendations\n",
    "\n",
    "# Item-Item Collaborative Filtering\n",
    "item_sim_matrix = cosine_similarity(user_movie_matrix.T)\n",
    "def recommend_item_based(movie_id, num_recommendations=5):\n",
    "    similar_items = np.argsort(item_sim_matrix[movie_id])[-6:-1]\n",
    "    recommendations = user_movie_matrix.columns[similar_items]\n",
    "    return recommendations\n"
   ]
  },
  {
   "cell_type": "code",
   "execution_count": 12,
   "metadata": {},
   "outputs": [
    {
     "name": "stdout",
     "output_type": "stream",
     "text": [
      "                                 title  \\\n",
      "1                       Jumanji (1995)   \n",
      "3021                Toy Story 2 (1999)   \n",
      "4262  Atlantis: The Lost Empire (2001)   \n",
      "4781             Monsters, Inc. (2001)   \n",
      "4885  Jimmy Neutron: Boy Genius (2001)   \n",
      "\n",
      "                                                 genres  \n",
      "1                        [Adventure, Children, Fantasy]  \n",
      "3021  [Adventure, Animation, Children, Comedy, Fantasy]  \n",
      "4262          [Adventure, Animation, Children, Fantasy]  \n",
      "4781  [Adventure, Animation, Children, Comedy, Fantasy]  \n",
      "4885           [Adventure, Animation, Children, Comedy]  \n"
     ]
    }
   ],
   "source": [
    "def calculate_similarity(metric='cosine'):\n",
    "    movie_features = movies.drop(['movieId', 'title', 'genres'], axis=1, errors='ignore')\n",
    "    movie_features = movie_features.apply(pd.to_numeric, errors='coerce').fillna(0)\n",
    "\n",
    "    if metric == 'cosine':\n",
    "        return cosine_similarity(movie_features)\n",
    "    elif metric == 'pearson':\n",
    "        return np.corrcoef(movie_features.values)\n",
    "    elif metric == 'jaccard':\n",
    "        return 1 - np.corrcoef(movie_features.values)\n",
    "\n",
    "sim_matrix = calculate_similarity('cosine')\n",
    "\n",
    "def recommend_content_based(movie_id, num_recommendations=5):\n",
    "    movie_index = movies.index[movies['movieId'] == movie_id].tolist()\n",
    "    if not movie_index:\n",
    "        return f\"Movie ID {movie_id} 不存在\"\n",
    "    movie_index = movie_index[0]\n",
    "\n",
    "    sim_scores = sim_matrix[movie_index]\n",
    "    similar_movies = np.argsort(sim_scores)[-6:-1]\n",
    "    recommended_movie_ids = movies.iloc[similar_movies]['movieId'].values\n",
    "\n",
    "    return movies[movies['movieId'].isin(recommended_movie_ids)][['title', 'genres']]\n",
    "\n",
    "print(recommend_content_based(movie_id=1))\n"
   ]
  },
  {
   "cell_type": "code",
   "execution_count": 13,
   "metadata": {},
   "outputs": [],
   "source": [
    "def compare_similarity_measures(movie_id, metric='cosine'):\n",
    "    sim_matrix = calculate_similarity(metric)\n",
    "    sim_scores = sim_matrix[movie_id]\n",
    "    similar_movies = np.argsort(sim_scores)[-6:-1]\n",
    "    return movies.iloc[similar_movies][['title', 'genres']]"
   ]
  },
  {
   "cell_type": "code",
   "execution_count": 14,
   "metadata": {},
   "outputs": [],
   "source": [
    "\n",
    "# Collaborative Filtering using SVD\n",
    "reader = Reader(rating_scale=(0.5, 5.0))\n",
    "data = Dataset.load_from_df(ratings[['userId', 'movieId', 'rating']], reader)\n",
    "\n",
    "# train_test_split\n",
    "trainset, testset = surprise_train_test_split(data, test_size=0.2)"
   ]
  },
  {
   "cell_type": "code",
   "execution_count": null,
   "metadata": {},
   "outputs": [
    {
     "data": {
      "text/plain": [
       "<surprise.prediction_algorithms.matrix_factorization.SVD at 0x7fc121196850>"
      ]
     },
     "execution_count": 15,
     "metadata": {},
     "output_type": "execute_result"
    }
   ],
   "source": [
    "# SVD training\n",
    "algo = SVD(n_factors=50, n_epochs=20)\n",
    "algo.fit(trainset)"
   ]
  },
  {
   "cell_type": "code",
   "execution_count": 12,
   "metadata": {},
   "outputs": [
    {
     "name": "stdout",
     "output_type": "stream",
     "text": [
      "RMSE: 0.7732\n"
     ]
    },
    {
     "data": {
      "text/plain": [
       "0.7731832459557475"
      ]
     },
     "execution_count": 12,
     "metadata": {},
     "output_type": "execute_result"
    }
   ],
   "source": [
    "# RMSE\n",
    "predictions = algo.test(testset)\n",
    "accuracy.rmse(predictions)"
   ]
  },
  {
   "cell_type": "code",
   "execution_count": 16,
   "metadata": {},
   "outputs": [],
   "source": [
    "# Precision@K and Recall@K\n",
    "def precision_recall_at_k(predictions, k=10):\n",
    "    top_k = predictions[:k]\n",
    "    true_positive = sum([1 for p in top_k if p[2] >= 4.0])  \n",
    "    precision = true_positive / k\n",
    "    relevant_items = sum([1 for p in predictions if p[3] >= 4.0])  \n",
    "    recall = true_positive / relevant_items if relevant_items > 0 else 0\n",
    "    return precision, recall"
   ]
  },
  {
   "cell_type": "code",
   "execution_count": 17,
   "metadata": {},
   "outputs": [],
   "source": [
    "# NDCG\n",
    "def ndcg_at_k(predictions, k=10):\n",
    "    dcg = sum([p[3] / np.log2(i+2) for i, p in enumerate(predictions[:k])])\n",
    "    ideal_dcg = sum([sorted(predictions, key=lambda x: x[3], reverse=True)[i][3] / np.log2(i+2) for i in range(k)])\n",
    "    return dcg / ideal_dcg if ideal_dcg > 0 else 0"
   ]
  },
  {
   "cell_type": "code",
   "execution_count": 18,
   "metadata": {},
   "outputs": [
    {
     "name": "stdout",
     "output_type": "stream",
     "text": [
      "RMSE: 0.7736\n"
     ]
    },
    {
     "data": {
      "text/plain": [
       "0.7735544118510616"
      ]
     },
     "execution_count": 18,
     "metadata": {},
     "output_type": "execute_result"
    }
   ],
   "source": [
    "svd = SVD(n_factors=50, n_epochs=20)\n",
    "svd.fit(trainset)\n",
    "predictions = svd.test(testset)\n",
    "accuracy.rmse(predictions)"
   ]
  },
  {
   "cell_type": "code",
   "execution_count": 14,
   "metadata": {},
   "outputs": [
    {
     "name": "stdout",
     "output_type": "stream",
     "text": [
      "Evaluating RMSE, MAE of algorithm NMF on 5 split(s).\n",
      "\n",
      "                  Fold 1  Fold 2  Fold 3  Fold 4  Fold 5  Mean    Std     \n",
      "RMSE (testset)    0.8637  0.8630  0.8634  0.8628  0.8636  0.8633  0.0004  \n",
      "MAE (testset)     0.6570  0.6562  0.6567  0.6560  0.6570  0.6566  0.0004  \n",
      "Fit time          765.96  760.16  746.69  740.46  751.41  752.94  9.15    \n",
      "Test time         82.87   96.04   98.43   92.22   79.75   89.86   7.32    \n",
      "Evaluating RMSE, MAE of algorithm SVD on 5 split(s).\n",
      "\n",
      "                  Fold 1  Fold 2  Fold 3  Fold 4  Fold 5  Mean    Std     \n",
      "RMSE (testset)    0.7729  0.7729  0.7737  0.7740  0.7734  0.7734  0.0004  \n",
      "MAE (testset)     0.5810  0.5810  0.5815  0.5816  0.5813  0.5813  0.0003  \n",
      "Fit time          311.37  326.71  336.89  330.80  338.01  328.76  9.62    \n",
      "Test time         95.81   149.03  118.60  143.35  155.71  132.50  22.22   \n"
     ]
    },
    {
     "data": {
      "text/plain": [
       "{'test_rmse': array([0.77288786, 0.77289283, 0.77366535, 0.77402361, 0.77342583]),\n",
       " 'test_mae': array([0.58099677, 0.5810097 , 0.58150921, 0.58164906, 0.58128031]),\n",
       " 'fit_time': (311.3661091327667,\n",
       "  326.7127079963684,\n",
       "  336.89248490333557,\n",
       "  330.7967121601105,\n",
       "  338.01125288009644),\n",
       " 'test_time': (95.8121190071106,\n",
       "  149.02960515022278,\n",
       "  118.59962296485901,\n",
       "  143.35208225250244,\n",
       "  155.71375012397766)}"
      ]
     },
     "execution_count": 14,
     "metadata": {},
     "output_type": "execute_result"
    }
   ],
   "source": [
    "# Model comparison\n",
    "nmf = NMF()\n",
    "cross_validate(nmf, data, cv=5, verbose=True)\n",
    "cross_validate(svd, data, cv=5, verbose=True)"
   ]
  },
  {
   "cell_type": "code",
   "execution_count": 51,
   "metadata": {},
   "outputs": [
    {
     "name": "stdout",
     "output_type": "stream",
     "text": [
      "Epoch 1/5\n"
     ]
    },
    {
     "ename": "InvalidArgumentError",
     "evalue": "Graph execution error:\n\nDetected at node 'model_3/embedding_7/embedding_lookup' defined at (most recent call last):\n    File \"/Library/Frameworks/Python.framework/Versions/3.8/lib/python3.8/runpy.py\", line 194, in _run_module_as_main\n      return _run_code(code, main_globals, None,\n    File \"/Library/Frameworks/Python.framework/Versions/3.8/lib/python3.8/runpy.py\", line 87, in _run_code\n      exec(code, run_globals)\n    File \"/Users/misscc/Library/Python/3.8/lib/python/site-packages/ipykernel_launcher.py\", line 18, in <module>\n      app.launch_new_instance()\n    File \"/Users/misscc/Library/Python/3.8/lib/python/site-packages/traitlets/config/application.py\", line 1075, in launch_instance\n      app.start()\n    File \"/Users/misscc/Library/Python/3.8/lib/python/site-packages/ipykernel/kernelapp.py\", line 739, in start\n      self.io_loop.start()\n    File \"/Users/misscc/Library/Python/3.8/lib/python/site-packages/tornado/platform/asyncio.py\", line 205, in start\n      self.asyncio_loop.run_forever()\n    File \"/Library/Frameworks/Python.framework/Versions/3.8/lib/python3.8/asyncio/base_events.py\", line 570, in run_forever\n      self._run_once()\n    File \"/Library/Frameworks/Python.framework/Versions/3.8/lib/python3.8/asyncio/base_events.py\", line 1859, in _run_once\n      handle._run()\n    File \"/Library/Frameworks/Python.framework/Versions/3.8/lib/python3.8/asyncio/events.py\", line 81, in _run\n      self._context.run(self._callback, *self._args)\n    File \"/Users/misscc/Library/Python/3.8/lib/python/site-packages/ipykernel/kernelbase.py\", line 545, in dispatch_queue\n      await self.process_one()\n    File \"/Users/misscc/Library/Python/3.8/lib/python/site-packages/ipykernel/kernelbase.py\", line 534, in process_one\n      await dispatch(*args)\n    File \"/Users/misscc/Library/Python/3.8/lib/python/site-packages/ipykernel/kernelbase.py\", line 437, in dispatch_shell\n      await result\n    File \"/Users/misscc/Library/Python/3.8/lib/python/site-packages/ipykernel/ipkernel.py\", line 359, in execute_request\n      await super().execute_request(stream, ident, parent)\n    File \"/Users/misscc/Library/Python/3.8/lib/python/site-packages/ipykernel/kernelbase.py\", line 778, in execute_request\n      reply_content = await reply_content\n    File \"/Users/misscc/Library/Python/3.8/lib/python/site-packages/ipykernel/ipkernel.py\", line 446, in do_execute\n      res = shell.run_cell(\n    File \"/Users/misscc/Library/Python/3.8/lib/python/site-packages/ipykernel/zmqshell.py\", line 549, in run_cell\n      return super().run_cell(*args, **kwargs)\n    File \"/Users/misscc/Library/Python/3.8/lib/python/site-packages/IPython/core/interactiveshell.py\", line 3009, in run_cell\n      result = self._run_cell(\n    File \"/Users/misscc/Library/Python/3.8/lib/python/site-packages/IPython/core/interactiveshell.py\", line 3064, in _run_cell\n      result = runner(coro)\n    File \"/Users/misscc/Library/Python/3.8/lib/python/site-packages/IPython/core/async_helpers.py\", line 129, in _pseudo_sync_runner\n      coro.send(None)\n    File \"/Users/misscc/Library/Python/3.8/lib/python/site-packages/IPython/core/interactiveshell.py\", line 3269, in run_cell_async\n      has_raised = await self.run_ast_nodes(code_ast.body, cell_name,\n    File \"/Users/misscc/Library/Python/3.8/lib/python/site-packages/IPython/core/interactiveshell.py\", line 3448, in run_ast_nodes\n      if await self.run_code(code, result, async_=asy):\n    File \"/Users/misscc/Library/Python/3.8/lib/python/site-packages/IPython/core/interactiveshell.py\", line 3508, in run_code\n      exec(code_obj, self.user_global_ns, self.user_ns)\n    File \"/var/folders/z1/g6zn_s853dzgm3gkdbyp5qw80000gn/T/ipykernel_50809/2810575343.py\", line 29, in <module>\n      model.fit([X_users, X_items], y, epochs=5, batch_size=64, validation_split=0.2)\n    File \"/Library/Frameworks/Python.framework/Versions/3.8/lib/python3.8/site-packages/keras/src/utils/traceback_utils.py\", line 65, in error_handler\n      return fn(*args, **kwargs)\n    File \"/Library/Frameworks/Python.framework/Versions/3.8/lib/python3.8/site-packages/keras/src/engine/training.py\", line 1742, in fit\n      tmp_logs = self.train_function(iterator)\n    File \"/Library/Frameworks/Python.framework/Versions/3.8/lib/python3.8/site-packages/keras/src/engine/training.py\", line 1338, in train_function\n      return step_function(self, iterator)\n    File \"/Library/Frameworks/Python.framework/Versions/3.8/lib/python3.8/site-packages/keras/src/engine/training.py\", line 1322, in step_function\n      outputs = model.distribute_strategy.run(run_step, args=(data,))\n    File \"/Library/Frameworks/Python.framework/Versions/3.8/lib/python3.8/site-packages/keras/src/engine/training.py\", line 1303, in run_step\n      outputs = model.train_step(data)\n    File \"/Library/Frameworks/Python.framework/Versions/3.8/lib/python3.8/site-packages/keras/src/engine/training.py\", line 1080, in train_step\n      y_pred = self(x, training=True)\n    File \"/Library/Frameworks/Python.framework/Versions/3.8/lib/python3.8/site-packages/keras/src/utils/traceback_utils.py\", line 65, in error_handler\n      return fn(*args, **kwargs)\n    File \"/Library/Frameworks/Python.framework/Versions/3.8/lib/python3.8/site-packages/keras/src/engine/training.py\", line 569, in __call__\n      return super().__call__(*args, **kwargs)\n    File \"/Library/Frameworks/Python.framework/Versions/3.8/lib/python3.8/site-packages/keras/src/utils/traceback_utils.py\", line 65, in error_handler\n      return fn(*args, **kwargs)\n    File \"/Library/Frameworks/Python.framework/Versions/3.8/lib/python3.8/site-packages/keras/src/engine/base_layer.py\", line 1150, in __call__\n      outputs = call_fn(inputs, *args, **kwargs)\n    File \"/Library/Frameworks/Python.framework/Versions/3.8/lib/python3.8/site-packages/keras/src/utils/traceback_utils.py\", line 96, in error_handler\n      return fn(*args, **kwargs)\n    File \"/Library/Frameworks/Python.framework/Versions/3.8/lib/python3.8/site-packages/keras/src/engine/functional.py\", line 512, in call\n      return self._run_internal_graph(inputs, training=training, mask=mask)\n    File \"/Library/Frameworks/Python.framework/Versions/3.8/lib/python3.8/site-packages/keras/src/engine/functional.py\", line 669, in _run_internal_graph\n      outputs = node.layer(*args, **kwargs)\n    File \"/Library/Frameworks/Python.framework/Versions/3.8/lib/python3.8/site-packages/keras/src/utils/traceback_utils.py\", line 65, in error_handler\n      return fn(*args, **kwargs)\n    File \"/Library/Frameworks/Python.framework/Versions/3.8/lib/python3.8/site-packages/keras/src/engine/base_layer.py\", line 1150, in __call__\n      outputs = call_fn(inputs, *args, **kwargs)\n    File \"/Library/Frameworks/Python.framework/Versions/3.8/lib/python3.8/site-packages/keras/src/utils/traceback_utils.py\", line 96, in error_handler\n      return fn(*args, **kwargs)\n    File \"/Library/Frameworks/Python.framework/Versions/3.8/lib/python3.8/site-packages/keras/src/layers/core/embedding.py\", line 272, in call\n      out = tf.nn.embedding_lookup(self.embeddings, inputs)\nNode: 'model_3/embedding_7/embedding_lookup'\nindices[2,0] = 102903 is not in [0, 84433)\n\t [[{{node model_3/embedding_7/embedding_lookup}}]] [Op:__inference_train_function_5413]",
     "output_type": "error",
     "traceback": [
      "\u001b[0;31m---------------------------------------------------------------------------\u001b[0m",
      "\u001b[0;31mInvalidArgumentError\u001b[0m                      Traceback (most recent call last)",
      "\u001b[1;32m/Users/misscc/Desktop/Spring_2025/Movie_Recommdation/movie_prs/notebooks/test.ipynb Cell 23\u001b[0m line \u001b[0;36m2\n\u001b[1;32m     <a href='vscode-notebook-cell:/Users/misscc/Desktop/Spring_2025/Movie_Recommdation/movie_prs/notebooks/test.ipynb#X50sZmlsZQ%3D%3D?line=25'>26</a>\u001b[0m X_items \u001b[39m=\u001b[39m ratings[\u001b[39m'\u001b[39m\u001b[39mmovieId\u001b[39m\u001b[39m'\u001b[39m]\u001b[39m.\u001b[39mvalues\n\u001b[1;32m     <a href='vscode-notebook-cell:/Users/misscc/Desktop/Spring_2025/Movie_Recommdation/movie_prs/notebooks/test.ipynb#X50sZmlsZQ%3D%3D?line=26'>27</a>\u001b[0m y \u001b[39m=\u001b[39m ratings[\u001b[39m'\u001b[39m\u001b[39mrating\u001b[39m\u001b[39m'\u001b[39m]\u001b[39m.\u001b[39mvalues\n\u001b[0;32m---> <a href='vscode-notebook-cell:/Users/misscc/Desktop/Spring_2025/Movie_Recommdation/movie_prs/notebooks/test.ipynb#X50sZmlsZQ%3D%3D?line=28'>29</a>\u001b[0m model\u001b[39m.\u001b[39;49mfit([X_users, X_items], y, epochs\u001b[39m=\u001b[39;49m\u001b[39m5\u001b[39;49m, batch_size\u001b[39m=\u001b[39;49m\u001b[39m64\u001b[39;49m, validation_split\u001b[39m=\u001b[39;49m\u001b[39m0.2\u001b[39;49m)\n",
      "File \u001b[0;32m/Library/Frameworks/Python.framework/Versions/3.8/lib/python3.8/site-packages/keras/src/utils/traceback_utils.py:70\u001b[0m, in \u001b[0;36mfilter_traceback.<locals>.error_handler\u001b[0;34m(*args, **kwargs)\u001b[0m\n\u001b[1;32m     67\u001b[0m     filtered_tb \u001b[39m=\u001b[39m _process_traceback_frames(e\u001b[39m.\u001b[39m__traceback__)\n\u001b[1;32m     68\u001b[0m     \u001b[39m# To get the full stack trace, call:\u001b[39;00m\n\u001b[1;32m     69\u001b[0m     \u001b[39m# `tf.debugging.disable_traceback_filtering()`\u001b[39;00m\n\u001b[0;32m---> 70\u001b[0m     \u001b[39mraise\u001b[39;00m e\u001b[39m.\u001b[39mwith_traceback(filtered_tb) \u001b[39mfrom\u001b[39;00m \u001b[39mNone\u001b[39;00m\n\u001b[1;32m     71\u001b[0m \u001b[39mfinally\u001b[39;00m:\n\u001b[1;32m     72\u001b[0m     \u001b[39mdel\u001b[39;00m filtered_tb\n",
      "File \u001b[0;32m/Library/Frameworks/Python.framework/Versions/3.8/lib/python3.8/site-packages/tensorflow/python/eager/execute.py:53\u001b[0m, in \u001b[0;36mquick_execute\u001b[0;34m(op_name, num_outputs, inputs, attrs, ctx, name)\u001b[0m\n\u001b[1;32m     51\u001b[0m \u001b[39mtry\u001b[39;00m:\n\u001b[1;32m     52\u001b[0m   ctx\u001b[39m.\u001b[39mensure_initialized()\n\u001b[0;32m---> 53\u001b[0m   tensors \u001b[39m=\u001b[39m pywrap_tfe\u001b[39m.\u001b[39mTFE_Py_Execute(ctx\u001b[39m.\u001b[39m_handle, device_name, op_name,\n\u001b[1;32m     54\u001b[0m                                       inputs, attrs, num_outputs)\n\u001b[1;32m     55\u001b[0m \u001b[39mexcept\u001b[39;00m core\u001b[39m.\u001b[39m_NotOkStatusException \u001b[39mas\u001b[39;00m e:\n\u001b[1;32m     56\u001b[0m   \u001b[39mif\u001b[39;00m name \u001b[39mis\u001b[39;00m \u001b[39mnot\u001b[39;00m \u001b[39mNone\u001b[39;00m:\n",
      "\u001b[0;31mInvalidArgumentError\u001b[0m: Graph execution error:\n\nDetected at node 'model_3/embedding_7/embedding_lookup' defined at (most recent call last):\n    File \"/Library/Frameworks/Python.framework/Versions/3.8/lib/python3.8/runpy.py\", line 194, in _run_module_as_main\n      return _run_code(code, main_globals, None,\n    File \"/Library/Frameworks/Python.framework/Versions/3.8/lib/python3.8/runpy.py\", line 87, in _run_code\n      exec(code, run_globals)\n    File \"/Users/misscc/Library/Python/3.8/lib/python/site-packages/ipykernel_launcher.py\", line 18, in <module>\n      app.launch_new_instance()\n    File \"/Users/misscc/Library/Python/3.8/lib/python/site-packages/traitlets/config/application.py\", line 1075, in launch_instance\n      app.start()\n    File \"/Users/misscc/Library/Python/3.8/lib/python/site-packages/ipykernel/kernelapp.py\", line 739, in start\n      self.io_loop.start()\n    File \"/Users/misscc/Library/Python/3.8/lib/python/site-packages/tornado/platform/asyncio.py\", line 205, in start\n      self.asyncio_loop.run_forever()\n    File \"/Library/Frameworks/Python.framework/Versions/3.8/lib/python3.8/asyncio/base_events.py\", line 570, in run_forever\n      self._run_once()\n    File \"/Library/Frameworks/Python.framework/Versions/3.8/lib/python3.8/asyncio/base_events.py\", line 1859, in _run_once\n      handle._run()\n    File \"/Library/Frameworks/Python.framework/Versions/3.8/lib/python3.8/asyncio/events.py\", line 81, in _run\n      self._context.run(self._callback, *self._args)\n    File \"/Users/misscc/Library/Python/3.8/lib/python/site-packages/ipykernel/kernelbase.py\", line 545, in dispatch_queue\n      await self.process_one()\n    File \"/Users/misscc/Library/Python/3.8/lib/python/site-packages/ipykernel/kernelbase.py\", line 534, in process_one\n      await dispatch(*args)\n    File \"/Users/misscc/Library/Python/3.8/lib/python/site-packages/ipykernel/kernelbase.py\", line 437, in dispatch_shell\n      await result\n    File \"/Users/misscc/Library/Python/3.8/lib/python/site-packages/ipykernel/ipkernel.py\", line 359, in execute_request\n      await super().execute_request(stream, ident, parent)\n    File \"/Users/misscc/Library/Python/3.8/lib/python/site-packages/ipykernel/kernelbase.py\", line 778, in execute_request\n      reply_content = await reply_content\n    File \"/Users/misscc/Library/Python/3.8/lib/python/site-packages/ipykernel/ipkernel.py\", line 446, in do_execute\n      res = shell.run_cell(\n    File \"/Users/misscc/Library/Python/3.8/lib/python/site-packages/ipykernel/zmqshell.py\", line 549, in run_cell\n      return super().run_cell(*args, **kwargs)\n    File \"/Users/misscc/Library/Python/3.8/lib/python/site-packages/IPython/core/interactiveshell.py\", line 3009, in run_cell\n      result = self._run_cell(\n    File \"/Users/misscc/Library/Python/3.8/lib/python/site-packages/IPython/core/interactiveshell.py\", line 3064, in _run_cell\n      result = runner(coro)\n    File \"/Users/misscc/Library/Python/3.8/lib/python/site-packages/IPython/core/async_helpers.py\", line 129, in _pseudo_sync_runner\n      coro.send(None)\n    File \"/Users/misscc/Library/Python/3.8/lib/python/site-packages/IPython/core/interactiveshell.py\", line 3269, in run_cell_async\n      has_raised = await self.run_ast_nodes(code_ast.body, cell_name,\n    File \"/Users/misscc/Library/Python/3.8/lib/python/site-packages/IPython/core/interactiveshell.py\", line 3448, in run_ast_nodes\n      if await self.run_code(code, result, async_=asy):\n    File \"/Users/misscc/Library/Python/3.8/lib/python/site-packages/IPython/core/interactiveshell.py\", line 3508, in run_code\n      exec(code_obj, self.user_global_ns, self.user_ns)\n    File \"/var/folders/z1/g6zn_s853dzgm3gkdbyp5qw80000gn/T/ipykernel_50809/2810575343.py\", line 29, in <module>\n      model.fit([X_users, X_items], y, epochs=5, batch_size=64, validation_split=0.2)\n    File \"/Library/Frameworks/Python.framework/Versions/3.8/lib/python3.8/site-packages/keras/src/utils/traceback_utils.py\", line 65, in error_handler\n      return fn(*args, **kwargs)\n    File \"/Library/Frameworks/Python.framework/Versions/3.8/lib/python3.8/site-packages/keras/src/engine/training.py\", line 1742, in fit\n      tmp_logs = self.train_function(iterator)\n    File \"/Library/Frameworks/Python.framework/Versions/3.8/lib/python3.8/site-packages/keras/src/engine/training.py\", line 1338, in train_function\n      return step_function(self, iterator)\n    File \"/Library/Frameworks/Python.framework/Versions/3.8/lib/python3.8/site-packages/keras/src/engine/training.py\", line 1322, in step_function\n      outputs = model.distribute_strategy.run(run_step, args=(data,))\n    File \"/Library/Frameworks/Python.framework/Versions/3.8/lib/python3.8/site-packages/keras/src/engine/training.py\", line 1303, in run_step\n      outputs = model.train_step(data)\n    File \"/Library/Frameworks/Python.framework/Versions/3.8/lib/python3.8/site-packages/keras/src/engine/training.py\", line 1080, in train_step\n      y_pred = self(x, training=True)\n    File \"/Library/Frameworks/Python.framework/Versions/3.8/lib/python3.8/site-packages/keras/src/utils/traceback_utils.py\", line 65, in error_handler\n      return fn(*args, **kwargs)\n    File \"/Library/Frameworks/Python.framework/Versions/3.8/lib/python3.8/site-packages/keras/src/engine/training.py\", line 569, in __call__\n      return super().__call__(*args, **kwargs)\n    File \"/Library/Frameworks/Python.framework/Versions/3.8/lib/python3.8/site-packages/keras/src/utils/traceback_utils.py\", line 65, in error_handler\n      return fn(*args, **kwargs)\n    File \"/Library/Frameworks/Python.framework/Versions/3.8/lib/python3.8/site-packages/keras/src/engine/base_layer.py\", line 1150, in __call__\n      outputs = call_fn(inputs, *args, **kwargs)\n    File \"/Library/Frameworks/Python.framework/Versions/3.8/lib/python3.8/site-packages/keras/src/utils/traceback_utils.py\", line 96, in error_handler\n      return fn(*args, **kwargs)\n    File \"/Library/Frameworks/Python.framework/Versions/3.8/lib/python3.8/site-packages/keras/src/engine/functional.py\", line 512, in call\n      return self._run_internal_graph(inputs, training=training, mask=mask)\n    File \"/Library/Frameworks/Python.framework/Versions/3.8/lib/python3.8/site-packages/keras/src/engine/functional.py\", line 669, in _run_internal_graph\n      outputs = node.layer(*args, **kwargs)\n    File \"/Library/Frameworks/Python.framework/Versions/3.8/lib/python3.8/site-packages/keras/src/utils/traceback_utils.py\", line 65, in error_handler\n      return fn(*args, **kwargs)\n    File \"/Library/Frameworks/Python.framework/Versions/3.8/lib/python3.8/site-packages/keras/src/engine/base_layer.py\", line 1150, in __call__\n      outputs = call_fn(inputs, *args, **kwargs)\n    File \"/Library/Frameworks/Python.framework/Versions/3.8/lib/python3.8/site-packages/keras/src/utils/traceback_utils.py\", line 96, in error_handler\n      return fn(*args, **kwargs)\n    File \"/Library/Frameworks/Python.framework/Versions/3.8/lib/python3.8/site-packages/keras/src/layers/core/embedding.py\", line 272, in call\n      out = tf.nn.embedding_lookup(self.embeddings, inputs)\nNode: 'model_3/embedding_7/embedding_lookup'\nindices[2,0] = 102903 is not in [0, 84433)\n\t [[{{node model_3/embedding_7/embedding_lookup}}]] [Op:__inference_train_function_5413]"
     ]
    }
   ],
   "source": [
    "# NCF\n",
    "n_users = ratings['userId'].max()\n",
    "n_items = ratings['movieId'].max()\n",
    "user_input = Input(shape=(1,))\n",
    "item_input = Input(shape=(1,))\n",
    "\n",
    "user_embedding = Embedding(n_users + 1, 50)(user_input)\n",
    "item_embedding = Embedding(n_items + 1, 50)(item_input)\n",
    "\n",
    "user_flat = Flatten()(user_embedding)\n",
    "item_flat = Flatten()(item_embedding)\n",
    "concat = Concatenate()([user_flat, item_flat])\n",
    "\n",
    "x = Dense(64, activation='relu')(concat)\n",
    "x = Dense(32, activation='relu')(x)\n",
    "output = Dense(1)(x)\n",
    "\n",
    "model = Model(inputs=[user_input, item_input], outputs=output)\n",
    "model.compile(optimizer='adam', loss='mean_squared_error', metrics=['mae'])\n",
    "\n",
    "X_users = ratings['userId'].values.astype(np.int32)\n",
    "X_items = ratings['movieId'].values.astype(np.int32)\n",
    "y = ratings['rating'].values\n",
    "\n",
    "model.fit([X_users, X_items], y, epochs=5, batch_size=64, validation_split=0.2)"
   ]
  },
  {
   "cell_type": "code",
   "execution_count": null,
   "metadata": {},
   "outputs": [],
   "source": [
    "svd_predictions = svd.test(testset)\n",
    "svd_rmse = accuracy.rmse(svd_predictions)\n",
    "\n",
    "nmf_predictions = nmf.test(testset)\n",
    "nmf_rmse = accuracy.rmse(nmf_predictions)\n",
    "\n",
    "y_pred = model.predict([X_users, X_items])\n",
    "ncf_predictions = [(u, i, r, p) for u, i, r, p in zip(X_users, X_items, y, y_pred.flatten())]\n",
    "assert len(X_users) == len(X_items) == len(y) == len(y_pred.flatten()),\n",
    "\n",
    "ncf_rmse = mean_squared_error(y, y_pred, squared=False)\n",
    "\n",
    "svd_precision, svd_recall = precision_recall_at_k(svd_predictions, k=10)\n",
    "nmf_precision, nmf_recall = precision_recall_at_k(nmf_predictions, k=10)\n",
    "ncf_precision, ncf_recall = precision_recall_at_k(list(zip(X_users, X_items, y, y_pred.flatten())), k=10)\n"
   ]
  },
  {
   "cell_type": "code",
   "execution_count": null,
   "metadata": {},
   "outputs": [],
   "source": [
    "results = {\n",
    "    'SVD': [svd_rmse, svd_precision, svd_recall],\n",
    "    'NMF': [nmf_rmse, nmf_precision, nmf_recall],\n",
    "    'NCF': [ncf_rmse, ncf_precision, ncf_recall]\n",
    "}\n",
    "metrics_df = pd.DataFrame(results, index=['RMSE', 'Precision@10', 'Recall@10'])\n",
    "metrics_df.plot(kind='bar', figsize=(10, 6))\n",
    "plt.title('Model Performance Comparison')\n",
    "plt.xlabel('Metrics')\n",
    "plt.ylabel('Scores')\n",
    "plt.xticks(rotation=0)\n",
    "plt.show()"
   ]
  }
 ],
 "metadata": {
  "language_info": {
   "name": "python"
  }
 },
 "nbformat": 4,
 "nbformat_minor": 2
}
